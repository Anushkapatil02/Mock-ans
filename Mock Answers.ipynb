{
 "cells": [
  {
   "cell_type": "markdown",
   "id": "71807199",
   "metadata": {},
   "source": [
    "# Mock Answers"
   ]
  },
  {
   "cell_type": "markdown",
   "id": "f640dac4",
   "metadata": {},
   "source": [
    "2.Write a program that accepts a sentence and calculate the number of upper case letters and lower case letters"
   ]
  },
  {
   "cell_type": "code",
   "execution_count": 5,
   "id": "22e05454",
   "metadata": {},
   "outputs": [
    {
     "name": "stdout",
     "output_type": "stream",
     "text": [
      "Enter a sentence: AnuShKA\n",
      "Number of uppercase letters: 4\n",
      "Number of lowercase letters: 3\n"
     ]
    }
   ],
   "source": [
    "str = input(\"Enter a sentence: \")\n",
    "upper=0 \n",
    "lower = 0\n",
    "for char in str:\n",
    "    if char.isupper():\n",
    "        upper += 1\n",
    "    elif char.islower():\n",
    "        lower += 1\n",
    "print(\"Number of uppercase letters:\", upper)\n",
    "print(\"Number of lowercase letters:\", lower)\n"
   ]
  },
  {
   "cell_type": "markdown",
   "id": "b4417db4",
   "metadata": {},
   "source": [
    "1.Write a program which will find all numbers are divisible by 7 but are not a multiple of 5, between 2000 and 3200(both included)\n",
    "The numbers obtained should be printed in a comma-seperated sequence on a single line"
   ]
  },
  {
   "cell_type": "markdown",
   "id": "5a511e3d",
   "metadata": {},
   "source": [
    "Num = []\n",
    "for i in range(2000, 3201):\n",
    "    if (i % 7 == 0) and (i % 5 != 0):\n",
    "        Num.append(str(i))\n",
    "print(','.join(Num))\n"
   ]
  },
  {
   "cell_type": "markdown",
   "id": "51d37207",
   "metadata": {},
   "source": [
    "3. you are given a train data set having 1000 columns and 1 million rows. The data set is based on a classification problem. Your manager has asked you to reduce the dimension of this data so that model \n",
    "computation time can be reduced. your machine has memory constrained. what would you do? (you are free to make practical assumption)\n"
   ]
  },
  {
   "cell_type": "code",
   "execution_count": null,
   "id": "0ceda982",
   "metadata": {},
   "outputs": [],
   "source": [
    "\n",
    "Principal Component Analysis (PCA):\n",
    "\n",
    "Apply PCA to transform the dataset into a lower-dimensional space while retaining most of the variance. \n",
    "PCA is particularly useful when the original features are highly correlated\n",
    "\n",
    "Sampling:\n",
    "    \n",
    "your data for model training and evaluation. this should be done carefully to ensure representative sampling."
   ]
  },
  {
   "cell_type": "markdown",
   "id": "7e9eed41",
   "metadata": {},
   "source": [
    "4. You are given a data set on cancer detection. you have build a classification model and achieved an accuracy of 96%. Why shouldn'nt you be happy with your model performance? what can you do about it?"
   ]
  },
  {
   "cell_type": "code",
   "execution_count": null,
   "id": "de2eb178",
   "metadata": {},
   "outputs": [],
   "source": [
    "Imbalanced Dataset: If the dataset is imbalanced, where one class significantly outnumbers the other\n",
    "    a high accuracy might not be meaningful. The model could be biased towards the majority class, and its \n",
    "    ability to detect the minority class  may be limited.\n",
    "    \n",
    "Confusion Matrix:\n",
    "    \n",
    "True Positive: The number of instances correctly predicted as positive (correctly identified cancer cases).\n",
    "True Negative: The number of instances correctly predicted as negative (correctly identified non-cancer cases).\n",
    "False Positive: The number of instances incorrectly predicted as positive (predicted as cancer when it's not).\n",
    "False Negative: The number of instances incorrectly predicted as negative (predicted as non-cancer when it is cancer)."
   ]
  },
  {
   "cell_type": "markdown",
   "id": "352984e0",
   "metadata": {},
   "source": [
    "5. You are working on a time series data set. You manager has asked you to build a high accuracy model. You start with the decision tree algorithm, since you know it works fairly well on all kinds of data. Later, you tried a time series.\n",
    "regression model and got higher accuracy than decision tree model. Can this happen? Why?"
   ]
  },
  {
   "cell_type": "code",
   "execution_count": null,
   "id": "87b3d803",
   "metadata": {},
   "outputs": [],
   "source": [
    "Hyperparameter Tuning:\n",
    "\n",
    "The performance of machine learning models, including decision trees and time series regression models, can be sensitive to hyperparameter tuning. \n",
    "It's possible that the time series regression model was better tuned or configured for the specific characteristics of the dataset."
   ]
  },
  {
   "cell_type": "markdown",
   "id": "f00f48ef",
   "metadata": {},
   "source": [
    "6. you come to know that your model is suffering from low bias and high varience. Which algorithm should you use to tackle it? why"
   ]
  },
  {
   "cell_type": "code",
   "execution_count": null,
   "id": "6249b0ea",
   "metadata": {},
   "outputs": [],
   "source": [
    "Regression model (Ridge Regression and LASSO regression)\n",
    "Regularization helps to prevent overfitting by considering  complex models with large coefficients."
   ]
  },
  {
   "cell_type": "markdown",
   "id": "7d51ecf5",
   "metadata": {},
   "source": [
    "7.you are given data set. the data set contains many variables, some of which are hgihtly correlated and you know about it. You manager has asked you to run PCA. Would you remove correlated variables first? why?"
   ]
  },
  {
   "cell_type": "code",
   "execution_count": null,
   "id": "3e7c3f9c",
   "metadata": {},
   "outputs": [],
   "source": [
    "yes,\n",
    "Because it is associated with multicollinearity When features are highly correlated PCA maydistinguish between the shared and unique variance in the data. \n",
    "This can  instability components."
   ]
  },
  {
   "cell_type": "markdown",
   "id": "0f1e2b95",
   "metadata": {},
   "source": [
    "9. When in Ridge regression favorable over Lasso regression? While working on a data set, how do you select important variables? Explain your methods."
   ]
  },
  {
   "cell_type": "code",
   "execution_count": null,
   "id": "24b34228",
   "metadata": {},
   "outputs": [],
   "source": [
    "They introduce penalty terms to the linear regression, promoting simpler models and preventing overfitting.\n",
    "If you have a dataset with a large number of features, some of which are correlated, and you want to include all features in the model \n",
    "Ridge regression is a good choice.\n",
    "If  many features are irrelevant it automatically selects a subset of features, Lasso regression may be more appropriate.\n",
    "\n",
    "Variable Selection methods \n",
    "Regularization"
   ]
  },
  {
   "cell_type": "markdown",
   "id": "450b8ff5",
   "metadata": {},
   "source": [
    "12. Define a function which can print a dictionary where the keys are numbers between 1 and 20 (both included) and the values are squares of keys."
   ]
  },
  {
   "cell_type": "code",
   "execution_count": 24,
   "id": "6c2d024b",
   "metadata": {},
   "outputs": [
    {
     "name": "stdout",
     "output_type": "stream",
     "text": [
      "{1: 1, 2: 4, 3: 9, 4: 16, 5: 25, 6: 36, 7: 49, 8: 64, 9: 81, 10: 100, 11: 121, 12: 144, 13: 169, 14: 196, 15: 225, 16: 256, 17: 289, 18: 324, 19: 361}\n"
     ]
    }
   ],
   "source": [
    "dict={i:i**2 for i in range(1, 20)}\n",
    "print(dict)"
   ]
  },
  {
   "cell_type": "markdown",
   "id": "21a8987a",
   "metadata": {},
   "source": [
    "13.With a given tuple (1,2,3,4,5,6,7,8,9,10), write a program to print the first half values in one line and the last"
   ]
  },
  {
   "cell_type": "code",
   "execution_count": 20,
   "id": "e88ffb6e",
   "metadata": {},
   "outputs": [
    {
     "name": "stdout",
     "output_type": "stream",
     "text": [
      "First Half: (1, 2, 3, 4, 5)\n",
      "Last Half: (6, 7, 8, 9, 10)\n"
     ]
    }
   ],
   "source": [
    "tup = (1, 2, 3, 4, 5, 6, 7, 8, 9, 10)\n",
    "mid = len(tup) // 2\n",
    "print(\"First Half:\", tup[:mid])\n",
    "print(\"Last Half:\", tup[mid:])"
   ]
  },
  {
   "cell_type": "markdown",
   "id": "ce748e27",
   "metadata": {},
   "source": [
    "14. Please write a program to randomly generate a list with 5 even numbers betwee 100 and 200 inclusive."
   ]
  },
  {
   "cell_type": "code",
   "execution_count": 22,
   "id": "0013ee16",
   "metadata": {},
   "outputs": [
    {
     "name": "stdout",
     "output_type": "stream",
     "text": [
      "List of 5 random even numbers between 100 and 200: [192, 186, 184, 142, 162]\n"
     ]
    }
   ],
   "source": [
    "import random\n",
    "even_num = []\n",
    "while len(even_num) < 5:\n",
    "    number = random.randint(100, 200)\n",
    "    if number % 2 == 0:\n",
    "        even_num.append(number)\n",
    "print(\"List of 5 random even numbers between 100 and 200:\", even_num)\n"
   ]
  },
  {
   "cell_type": "markdown",
   "id": "cf763a96",
   "metadata": {},
   "source": [
    "15. Define a class Person and its two child classes:"
   ]
  },
  {
   "cell_type": "code",
   "execution_count": 27,
   "id": "3695a580",
   "metadata": {},
   "outputs": [
    {
     "name": "stdout",
     "output_type": "stream",
     "text": [
      "Unknown Gender\n",
      "Male\n",
      "Female\n"
     ]
    }
   ],
   "source": [
    "class Person:\n",
    "    def getGender(self):\n",
    "        print(\"Unknown Gender\")\n",
    "\n",
    "class Male(Person):\n",
    "    def getGender(self):\n",
    "        print(\"Male\")\n",
    "\n",
    "class Female(Person):\n",
    "    def getGender(self):\n",
    "        print(\"Female\")\n",
    "person = Person()\n",
    "male = Male()\n",
    "female = Female()\n",
    "\n",
    "person.getGender() \n",
    "male.getGender()    \n",
    "female.getGender()"
   ]
  },
  {
   "cell_type": "code",
   "execution_count": null,
   "id": "2d0c9338",
   "metadata": {},
   "outputs": [],
   "source": []
  }
 ],
 "metadata": {
  "kernelspec": {
   "display_name": "Python 3 (ipykernel)",
   "language": "python",
   "name": "python3"
  },
  "language_info": {
   "codemirror_mode": {
    "name": "ipython",
    "version": 3
   },
   "file_extension": ".py",
   "mimetype": "text/x-python",
   "name": "python",
   "nbconvert_exporter": "python",
   "pygments_lexer": "ipython3",
   "version": "3.11.4"
  }
 },
 "nbformat": 4,
 "nbformat_minor": 5
}
